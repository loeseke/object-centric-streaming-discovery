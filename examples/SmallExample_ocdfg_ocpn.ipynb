{
 "cells": [
  {
   "cell_type": "code",
   "execution_count": 1,
   "id": "dfa308d6",
   "metadata": {},
   "outputs": [],
   "source": [
    "import sys\n",
    "sys.path.append('../src')\n",
    "from utils import EventStream\n",
    "from cache_policy_buffers import CachePolicy\n",
    "from model_buffers import OcdfgBuffer, OcpnBuffer\n",
    "from model_builder_ocdfg import OcdfgModel, get_ocdfg_accuracy, visualize_ocdfg_overlap, get_ocdfg_avg_scores\n",
    "from model_builder_ocpn import OcpnModel, get_ocpn_accuracy, get_ocpn_avg_scores\n",
    "\n",
    "import matplotlib as mpl\n",
    "import matplotlib.cm as cm\n",
    "import numpy as np\n",
    "from pathlib import Path"
   ]
  },
  {
   "cell_type": "markdown",
   "id": "9e79d07d",
   "metadata": {},
   "source": [
    "#### Loading `SmallExample.json` stream and preparing visualization"
   ]
  },
  {
   "cell_type": "code",
   "execution_count": 2,
   "id": "da8e53a7",
   "metadata": {},
   "outputs": [
    {
     "name": "stdout",
     "output_type": "stream",
     "text": [
      "Parsing ../data/SmallExample.json...\n",
      "# of (removed) E2O target objects w/o type: 0\n",
      "# of (removed) O2O target objects w/o type: 0\n",
      "# events:\t\t\t5\n",
      "# object updates:\t\t0\n",
      "# O2O relations:\t\t1\n",
      "# E2O-derived O2O relations:\t11\n",
      "Enriching enabled: False\n",
      "Finished parsing ../data/SmallExample.json in 0.00 min.\n"
     ]
    }
   ],
   "source": [
    "# Load event stream\n",
    "event_stream = EventStream('../data/SmallExample.json', o2o_has_time=True)\n",
    "\n",
    "# Define colors for object types\n",
    "ots = sorted(event_stream.object_types)\n",
    "ot_rgb_colors = cm.jet(np.linspace(0, 1, len(ots)))\n",
    "ot_to_rgb_color = dict(zip(ots, ot_rgb_colors))\n",
    "ot_to_hex_color = {ot: mpl.colors.rgb2hex(ot_rgb) for ot, ot_rgb in ot_to_rgb_color.items()}"
   ]
  },
  {
   "cell_type": "markdown",
   "id": "45b693bd",
   "metadata": {},
   "source": [
    "#### Discovery, visualization and evaluation of OC-DFG"
   ]
  },
  {
   "cell_type": "code",
   "execution_count": 3,
   "id": "035b8623",
   "metadata": {},
   "outputs": [],
   "source": [
    "# Discover and draw full OC-DFG\n",
    "ocdfg_buf = OcdfgBuffer(\n",
    "    50,\n",
    "    50,\n",
    "    CachePolicy.FIFO\n",
    ")\n",
    "ocdfg_buf.process_stream(event_stream.stream)\n",
    "ocdfg_model = OcdfgModel(ocdfg_buf)\n",
    "ocdfg_model_offl = OcdfgModel('../data/SmallExample.json')\n",
    "ocdfg_model_offl.visualize(Path('../figures/SmallExample'), 'ocdfg_offl.pdf', ot_to_hex_color, visualize_dfgs=False)\n"
   ]
  },
  {
   "cell_type": "code",
   "execution_count": 4,
   "id": "540d94b6",
   "metadata": {},
   "outputs": [],
   "source": [
    "# Print evaluation metrics for discovered OC-DFG\n",
    "def print_ocdfg_scores(onl_model : OcdfgModel, offl_model : OcdfgModel) -> None:\n",
    "    score_dict = get_ocdfg_accuracy(offl_model, onl_model)\n",
    "    print('Total evaluation scores\\n-----------------------')\n",
    "    for key, val in score_dict.items():\n",
    "        print(f'{key}:\\t{val}')\n",
    "\n",
    "    avg_score_dict = get_ocdfg_avg_scores(offl_model, onl_model)\n",
    "    print(f'\\nAverage evaluation scores\\n-------------------------')\n",
    "    for key, val in avg_score_dict.items():\n",
    "        print(f'{key}:\\t{val}')"
   ]
  },
  {
   "cell_type": "code",
   "execution_count": 5,
   "id": "56578175",
   "metadata": {},
   "outputs": [
    {
     "name": "stdout",
     "output_type": "stream",
     "text": [
      "Total evaluation scores\n",
      "-----------------------\n",
      "node recall:\t1.0\n",
      "node accuracy:\t1.0\n",
      "node precision:\t1.0\n",
      "arc recall:\t1.0\n",
      "arc accuracy:\t1.0\n",
      "arc precision:\t1.0\n",
      "total node freq. MAE:\t0.0\n",
      "arc freq. MAE:\t0.0\n",
      "source/sink recall:\t1.0\n",
      "source/sink accuracy:\t1.0\n",
      "source/sink precision:\t1.0\n",
      "source/sink arc recall:\t1.0\n",
      "source/sink arc accuracy:\t1.0\n",
      "source/sink arc precision:\t1.0\n",
      "\n",
      "Average evaluation scores\n",
      "-------------------------\n",
      "recall:\t1.0\n",
      "precision:\t1.0\n",
      "accuracy:\t1.0\n"
     ]
    }
   ],
   "source": [
    "# Evaluate online model with sufficiently large buffers to fit entire SmallExample log\n",
    "print_ocdfg_scores(ocdfg_model, ocdfg_model_offl)"
   ]
  },
  {
   "cell_type": "code",
   "execution_count": 6,
   "id": "f0820c87",
   "metadata": {},
   "outputs": [
    {
     "name": "stdout",
     "output_type": "stream",
     "text": [
      "Total evaluation scores\n",
      "-----------------------\n",
      "node recall:\t0.75\n",
      "node accuracy:\t0.75\n",
      "node precision:\t1.0\n",
      "arc recall:\t0.5\n",
      "arc accuracy:\t0.875\n",
      "arc precision:\t1.0\n",
      "total node freq. MAE:\t0.3333333333333333\n",
      "arc freq. MAE:\t0.0\n",
      "source/sink recall:\t0.8\n",
      "source/sink accuracy:\t0.8\n",
      "source/sink precision:\t1.0\n",
      "source/sink arc recall:\t0.6\n",
      "source/sink arc accuracy:\t0.625\n",
      "source/sink arc precision:\t0.75\n",
      "\n",
      "Average evaluation scores\n",
      "-------------------------\n",
      "recall:\t0.6625\n",
      "precision:\t0.9375\n",
      "accuracy:\t0.7625\n"
     ]
    }
   ],
   "source": [
    "# Visualize effect of using insufficiently small model buffers\n",
    "ocdfg_buf_too_small = OcdfgBuffer(\n",
    "    5,\n",
    "    5,\n",
    "    CachePolicy.FIFO\n",
    ")\n",
    "ocdfg_buf_too_small.process_stream(event_stream.stream)\n",
    "ocdfg_model_too_small = OcdfgModel(ocdfg_buf_too_small)\n",
    "visualize_ocdfg_overlap(ocdfg_model_offl, ocdfg_model_too_small, Path('../figures/SmallExample'), 'ocdfg_too_small_overlap.pdf', ot_to_hex_color)\n",
    "\n",
    "# Evaluate online model with insufficiently small model buffers to fully capture SmallExample\n",
    "print_ocdfg_scores(ocdfg_model_too_small, ocdfg_model_offl)\n"
   ]
  },
  {
   "cell_type": "markdown",
   "id": "3f071737",
   "metadata": {},
   "source": [
    "#### Discovery, evaluation and visualization of OCPN"
   ]
  },
  {
   "cell_type": "code",
   "execution_count": 7,
   "id": "8d39ce76",
   "metadata": {},
   "outputs": [],
   "source": [
    "# Discover and draw full OCPN\n",
    "ocpn_buf = OcpnBuffer(\n",
    "    50,\n",
    "    50,\n",
    "    50,\n",
    "    CachePolicy.FIFO,\n",
    "    use_mixed_ocdfg_buf=True\n",
    ")\n",
    "ocpn_buf.process_stream(event_stream.stream)\n",
    "ocpn_model = OcpnModel(ocpn_buf)\n",
    "ocpn_model_offl = OcpnModel('../data/SmallExample.json')\n",
    "ocpn_model_offl.visualize(Path('../figures/SmallExample'), 'ocpn_offl.pdf', ot_to_hex_color)"
   ]
  },
  {
   "cell_type": "code",
   "execution_count": 8,
   "id": "9279a7b1",
   "metadata": {},
   "outputs": [],
   "source": [
    "# Print evaluation metrics for discovered OCPN\n",
    "def print_ocpn_scores(onl_model : OcpnModel, offl_model : OcpnModel) -> None:\n",
    "    score_dict = get_ocpn_accuracy(offl_model, onl_model)\n",
    "    print('Total evaluation scores\\n-----------------------')\n",
    "    for key, val in score_dict.items():\n",
    "        print(f'{key}:\\t{val}')\n",
    "\n",
    "    avg_score_dict = get_ocpn_avg_scores(offl_model, onl_model)\n",
    "    print(f'\\nAverage evaluation scores\\n-------------------------')\n",
    "    for key, val in avg_score_dict.items():\n",
    "        print(f'{key}:\\t{val}')"
   ]
  },
  {
   "cell_type": "code",
   "execution_count": 9,
   "id": "c374f82c",
   "metadata": {},
   "outputs": [
    {
     "name": "stdout",
     "output_type": "stream",
     "text": [
      "Total evaluation scores\n",
      "-----------------------\n",
      "act-place-act recall:\t1.0\n",
      "act-place-act accuracy:\t1.0\n",
      "act-place-act precision:\t1.0\n",
      "double-arc recall:\t1.0\n",
      "double-arc accuracy:\t1.0\n",
      "double-arc precision:\t1.0\n",
      "\n",
      "Average evaluation scores\n",
      "-------------------------\n",
      "recall:\t1.0\n",
      "precision:\t1.0\n",
      "accuracy:\t1.0\n"
     ]
    }
   ],
   "source": [
    "# Evaluate online model with sufficiently large buffers to fit entire SmallExample log\n",
    "print_ocpn_scores(ocpn_model, ocpn_model_offl)"
   ]
  },
  {
   "cell_type": "code",
   "execution_count": 10,
   "id": "9712c19f",
   "metadata": {},
   "outputs": [
    {
     "name": "stdout",
     "output_type": "stream",
     "text": [
      "Total evaluation scores\n",
      "-----------------------\n",
      "act-place-act recall:\t0.3333333333333333\n",
      "act-place-act accuracy:\t0.8461538461538461\n",
      "act-place-act precision:\t1.0\n",
      "double-arc recall:\tNone\n",
      "double-arc accuracy:\t1.0\n",
      "double-arc precision:\tNone\n",
      "\n",
      "Average evaluation scores\n",
      "-------------------------\n",
      "recall:\t0.3333333333333333\n",
      "precision:\t1.0\n",
      "accuracy:\t0.9230769230769231\n"
     ]
    }
   ],
   "source": [
    "# Visualize effect of using insufficiently small model buffers\n",
    "ocpn_buf_too_small = OcpnBuffer(\n",
    "    5,\n",
    "    5,\n",
    "    5,\n",
    "    CachePolicy.FIFO,\n",
    "    use_mixed_ocdfg_buf=True\n",
    ")\n",
    "ocpn_buf_too_small.process_stream(event_stream.stream)\n",
    "ocpn_model_too_small = OcpnModel(ocpn_buf_too_small)\n",
    "ocpn_model_too_small.visualize(Path('../figures/SmallExample'), 'ocpn_too_small.pdf', ot_to_hex_color)\n",
    "\n",
    "# Evaluate online model with insufficiently small model buffers to fully capture SmallExample\n",
    "print_ocpn_scores(ocpn_model_too_small, ocpn_model_offl)"
   ]
  }
 ],
 "metadata": {
  "kernelspec": {
   "display_name": ".venv_pm4py",
   "language": "python",
   "name": "python3"
  },
  "language_info": {
   "codemirror_mode": {
    "name": "ipython",
    "version": 3
   },
   "file_extension": ".py",
   "mimetype": "text/x-python",
   "name": "python",
   "nbconvert_exporter": "python",
   "pygments_lexer": "ipython3",
   "version": "3.12.10"
  }
 },
 "nbformat": 4,
 "nbformat_minor": 5
}
