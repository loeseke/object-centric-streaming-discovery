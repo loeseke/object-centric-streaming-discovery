{
 "cells": [
  {
   "cell_type": "code",
   "execution_count": 1,
   "id": "f53ee2f1",
   "metadata": {},
   "outputs": [],
   "source": [
    "import sys\n",
    "sys.path.append('../src')\n",
    "from utils import EventStream\n",
    "from model_buffers import OcdfgBuffer, OcpnBuffer, TotemBuffer\n",
    "from monitor import CacheMonitor, RuntimeMonitor\n",
    "from monitor_evaluation import create_all_plots_cache_monitor, create_all_plots_runtime_monitor\n",
    "from cache_policy_buffers import CachePolicy\n",
    "from priority_policy_buffers import PrioPolicyOrder, PPBStridePerObjectType, PPBEventsPerObjectType\n",
    "from model_builder_totem import visualize_totem_overlap, TotemModel\n",
    "\n",
    "import pandas as pd\n",
    "import matplotlib as mpl\n",
    "import matplotlib.cm as cm\n",
    "import numpy as np\n",
    "from pathlib import Path"
   ]
  },
  {
   "cell_type": "code",
   "execution_count": 2,
   "id": "ed08daa7",
   "metadata": {},
   "outputs": [],
   "source": [
    "# Load event stream\n",
    "event_stream = EventStream('../data/ContainerLogistics.json')\n",
    "\n",
    "# Define colors per object type for overlapped TOTeM visualization for replacement strategy with high vs. low accuracy\n",
    "ots = sorted(event_stream.object_types)\n",
    "ot_rgb_colors = cm.jet(np.linspace(0, 1, len(ots)))\n",
    "ot_to_rgb_color = dict(zip(ots, ot_rgb_colors))\n",
    "ot_to_hex_color = {ot: mpl.colors.rgb2hex(ot_rgb) for ot, ot_rgb in ot_to_rgb_color.items()}"
   ]
  },
  {
   "cell_type": "markdown",
   "id": "4e86daa2",
   "metadata": {},
   "source": [
    "### Evaluation of `RuntimeMonitor` on `ContainerLogistics.json`"
   ]
  },
  {
   "cell_type": "code",
   "execution_count": null,
   "id": "5c4f0a17",
   "metadata": {},
   "outputs": [],
   "source": [
    "ocdfg_buf = OcdfgBuffer(\n",
    "    node_buf_size=125, \n",
    "    arc_buf_size=125,\n",
    "    cp=CachePolicy.LFU_DA,\n",
    "    pp_buf=PPBStridePerObjectType(\n",
    "        prio_order=PrioPolicyOrder.MAX, \n",
    "        freeze_or_max_idle=pd.Timedelta(days=1)\n",
    "    ),\n",
    "    coupled_removal=True,\n",
    "    runtime_monitor=RuntimeMonitor()\n",
    ")\n",
    "\n",
    "ocpn_buf = OcpnBuffer(\n",
    "    node_buf_size=125, \n",
    "    arc_buf_size=125,\n",
    "    ea_buf_size=125,\n",
    "    cp=CachePolicy.LFU_DA,\n",
    "    pp_buf=PPBStridePerObjectType(\n",
    "        prio_order=PrioPolicyOrder.MAX, \n",
    "        freeze_or_max_idle=pd.Timedelta(days=1)\n",
    "    ),\n",
    "    coupled_removal=True,\n",
    "    runtime_monitor=RuntimeMonitor()\n",
    ")\n",
    "\n",
    "totem_buf = TotemBuffer(\n",
    "    tr_buf_size=125, \n",
    "    ec_buf_size=125,\n",
    "    lc_buf_size=125,\n",
    "    cp=CachePolicy.LFU_DA,\n",
    "    pp_buf=PPBStridePerObjectType(\n",
    "        prio_order=PrioPolicyOrder.MAX, \n",
    "        freeze_or_max_idle=pd.Timedelta(days=1)\n",
    "    ),\n",
    "    coupled_removal=True,\n",
    "    runtime_monitor=RuntimeMonitor()\n",
    ")\n",
    "\n",
    "for model_buf, model in [(totem_buf, 'totem'), (ocdfg_buf, 'ocdfg'), (ocpn_buf, 'ocpn')]:\n",
    "    model_buf.process_stream(event_stream.stream)\n",
    "    model_buf.create_monitor_dataframes()\n",
    "    create_all_plots_runtime_monitor(model_buf.rt_mon, Path(f'../figures/ContainerLogistics/{model}_monitoring/{model_buf.cp.value.lower()}_{model_buf.pp_buf.prio_order.value.lower()}-{model_buf.pp_buf.pp.value.lower().replace(' ', '-')}_cr-{int(model_buf.coupled_removal)}'))"
   ]
  },
  {
   "cell_type": "markdown",
   "id": "47ba42a3",
   "metadata": {},
   "source": [
    "### Evaluation of `CacheMonitor` on `ContainerLogistics.json`"
   ]
  },
  {
   "cell_type": "code",
   "execution_count": null,
   "id": "cf690aa7",
   "metadata": {},
   "outputs": [],
   "source": [
    "for cp, pp, cr in [(CachePolicy.FIFO, PPBEventsPerObjectType(PrioPolicyOrder.MAX), False), (CachePolicy.LFU, PPBEventsPerObjectType(PrioPolicyOrder.MIN), True)]:\n",
    "    pp.buf.clear()\n",
    "    ocdfg_buf = OcdfgBuffer(\n",
    "        node_buf_size=125, \n",
    "        arc_buf_size=125,\n",
    "        cp=cp,\n",
    "        pp_buf=pp,\n",
    "        coupled_removal=cr,\n",
    "        cache_monitor=CacheMonitor()\n",
    "    )\n",
    "\n",
    "    ocpn_buf = OcpnBuffer(\n",
    "        node_buf_size=125, \n",
    "        arc_buf_size=125,\n",
    "        ea_buf_size=125,\n",
    "        cp=cp,\n",
    "        pp_buf=pp,\n",
    "        coupled_removal=cr,\n",
    "        cache_monitor=CacheMonitor()\n",
    "    )\n",
    "\n",
    "    totem_buf = TotemBuffer(\n",
    "        tr_buf_size=125, \n",
    "        ec_buf_size=125,\n",
    "        lc_buf_size=125,\n",
    "        cp=cp,\n",
    "        pp_buf=pp,\n",
    "        coupled_removal=cr,\n",
    "        cache_monitor=CacheMonitor()\n",
    "    )\n",
    "\n",
    "    for model_buf, model in [(totem_buf, 'totem'), (ocdfg_buf, 'ocdfg'), (ocpn_buf, 'ocpn')]:\n",
    "        model_buf.process_stream(event_stream.stream)\n",
    "        model_buf.create_monitor_dataframes()\n",
    "        create_all_plots_cache_monitor(model_buf.c_mon, Path(f'../figures/ContainerLogistics/{model}_monitoring/{cp.value.lower()}_{pp.prio_order.value.lower()}-{pp.pp.value.lower().replace(' ', '-')}_cr-{int(cr)}'))\n",
    "\n",
    "        if model == 'totem':\n",
    "            visualize_totem_overlap(\n",
    "                TotemModel(totem_buf),\n",
    "                TotemModel('../data/ContainerLogistics.xml'),\n",
    "                output_dir=Path(f'../figures/ContainerLogistics/{model}_monitoring/{cp.value.lower()}_{pp.prio_order.value.lower()}-{pp.pp.value.lower().replace(' ', '-')}_cr-{int(cr)}'),\n",
    "                output_file='totem_onl_vs_offl_overlap.pdf',\n",
    "                ot_to_hex_color=ot_to_hex_color\n",
    "            )"
   ]
  }
 ],
 "metadata": {
  "kernelspec": {
   "display_name": ".venv_ocpa",
   "language": "python",
   "name": "python3"
  },
  "language_info": {
   "codemirror_mode": {
    "name": "ipython",
    "version": 3
   },
   "file_extension": ".py",
   "mimetype": "text/x-python",
   "name": "python",
   "nbconvert_exporter": "python",
   "pygments_lexer": "ipython3",
   "version": "3.12.10"
  }
 },
 "nbformat": 4,
 "nbformat_minor": 5
}
