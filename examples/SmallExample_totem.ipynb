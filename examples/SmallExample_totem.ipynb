{
 "cells": [
  {
   "cell_type": "code",
   "execution_count": null,
   "id": "dfa308d6",
   "metadata": {},
   "outputs": [],
   "source": [
    "import sys\n",
    "sys.path.append('../src')\n",
    "from utils import EventStream\n",
    "from cache_policy_buffers import CachePolicy\n",
    "from priority_policy_buffers import PrioPolicyOrder, PPBObjectsPerObjectType\n",
    "from model_buffers import TotemBuffer\n",
    "from model_builder_totem import TotemModel, get_totem_accuracy, visualize_totem_overlap, get_totem_avg_scores\n",
    "\n",
    "import matplotlib as mpl\n",
    "import matplotlib.cm as cm\n",
    "import numpy as np\n",
    "from pathlib import Path"
   ]
  },
  {
   "cell_type": "markdown",
   "id": "9e79d07d",
   "metadata": {},
   "source": [
    "### Loading `SmallExample.json` stream and preparing visualization"
   ]
  },
  {
   "cell_type": "code",
   "execution_count": 9,
   "id": "da8e53a7",
   "metadata": {},
   "outputs": [
    {
     "name": "stdout",
     "output_type": "stream",
     "text": [
      "Parsing ../data/SmallExample.json...\n",
      "# of (removed) E2O target objects w/o type: 0\n",
      "# of (removed) O2O target objects w/o type: 0\n",
      "# events:\t\t\t5\n",
      "# object updates:\t\t0\n",
      "# O2O relations:\t\t1\n",
      "# E2O-derived O2O relations:\t11\n",
      "Enriching enabled: False\n",
      "Finished parsing ../data/SmallExample.json in 0.00 min.\n"
     ]
    }
   ],
   "source": [
    "# Load event stream\n",
    "event_stream = EventStream('../data/SmallExample.json', o2o_has_time=True)\n",
    "\n",
    "# Define colors for object types\n",
    "ots = sorted(event_stream.object_types)\n",
    "ot_rgb_colors = cm.jet(np.linspace(0, 1, len(ots)))\n",
    "ot_to_rgb_color = dict(zip(ots, ot_rgb_colors))\n",
    "ot_to_hex_color = {ot: mpl.colors.rgb2hex(ot_rgb) for ot, ot_rgb in ot_to_rgb_color.items()}"
   ]
  },
  {
   "cell_type": "markdown",
   "id": "45b693bd",
   "metadata": {},
   "source": [
    "### Discovery, visualization and evaluation of TOTeM"
   ]
  },
  {
   "cell_type": "code",
   "execution_count": null,
   "id": "035b8623",
   "metadata": {},
   "outputs": [
    {
     "name": "stdout",
     "output_type": "stream",
     "text": [
      "../data/SmallExample.xml\n",
      "Coupled removal for buffered TOTeM model: False\n",
      "FIFO TOTeM TR buffer characteristics:\n",
      " - buffer size: 50\n",
      " - max counter: 10000\n",
      " - object type: --\n",
      "+----+-------+----------------+---------------------------+---------------------------+\n",
      "|    | oid   | object type    | first seen                | last seen                 |\n",
      "|----+-------+----------------+---------------------------+---------------------------|\n",
      "|  0 | c_1   | Customer       | 2025-01-01 00:00:00+00:00 | 2025-01-01 00:00:00+00:00 |\n",
      "|  1 | o_1   | Order          | 2025-01-01 00:00:00+00:00 | 2025-01-04 00:00:00+00:00 |\n",
      "|  2 | i_1   | Item           | 2025-01-01 00:00:00+00:00 | 2025-01-03 00:00:00+00:00 |\n",
      "|  3 | i_2   | Item           | 2025-01-01 00:00:00+00:00 | 2025-01-02 00:00:00+00:00 |\n",
      "|  4 | p_1   | Parcel         | 2025-01-04 00:00:00+00:00 | 2025-01-04 00:00:00+00:00 |\n",
      "|  5 | l_1   | Shipping label | 2025-01-05 00:00:00+00:00 | 2025-01-05 00:00:00+00:00 |\n",
      "+----+-------+----------------+---------------------------+---------------------------+\n",
      "FIFO TOTeM EC buffer characteristics:\n",
      " - buffer size: 50\n",
      " - max counter: 10000\n",
      " - object type: --\n",
      "+----+--------------------------+-------------------+-------------------------------+\n",
      "|    | directed OT pair         |   unique event ID | event cardinalities           |\n",
      "|----+--------------------------+-------------------+-------------------------------|\n",
      "|  0 | ('Customer', 'Order')    |                 0 | ['1', '0..1', '1..*', '0..*'] |\n",
      "|  1 | ('Order', 'Customer')    |                 0 | ['1', '0..1', '1..*', '0..*'] |\n",
      "|  2 | ('Customer', 'Item')     |                 0 | ['1..*', '0..*']              |\n",
      "|  3 | ('Item', 'Customer')     |                 0 | ['1', '0..1', '1..*', '0..*'] |\n",
      "|  4 | ('Order', 'Item')        |                 0 | ['1..*', '0..*']              |\n",
      "|  5 | ('Order', 'Item')        |                 1 | ['1', '0..1', '1..*', '0..*'] |\n",
      "|  6 | ('Order', 'Item')        |                 2 | ['1', '0..1', '1..*', '0..*'] |\n",
      "|  7 | ('Item', 'Order')        |                 0 | ['1', '0..1', '1..*', '0..*'] |\n",
      "|  8 | ('Item', 'Order')        |                 1 | ['1', '0..1', '1..*', '0..*'] |\n",
      "|  9 | ('Item', 'Order')        |                 2 | ['1', '0..1', '1..*', '0..*'] |\n",
      "| 10 | ('Order', 'Parcel')      |                 3 | ['1', '0..1', '1..*', '0..*'] |\n",
      "| 11 | ('Parcel', 'Order')      |                 3 | ['1', '0..1', '1..*', '0..*'] |\n",
      "| 12 | ('Shipping label', None) |                 4 | ['0', '0..1', '0..*']         |\n",
      "+----+--------------------------+-------------------+-------------------------------+\n",
      "FIFO TOTeM LC buffer characteristics:\n",
      " - buffer size: 50\n",
      " - max counter: 10000\n",
      " - object type: --\n",
      "+----+------------------------------+----------------+\n",
      "|    | undirected OT pair           | object pair    |\n",
      "|----+------------------------------+----------------|\n",
      "|  0 | ('Customer', 'Order')        | ('c_1', 'o_1') |\n",
      "|  1 | ('Customer', 'Item')         | ('c_1', 'i_1') |\n",
      "|  2 | ('Customer', 'Item')         | ('c_1', 'i_2') |\n",
      "|  3 | ('Item', 'Order')            | ('i_1', 'o_1') |\n",
      "|  4 | ('Item', 'Order')            | ('i_2', 'o_1') |\n",
      "|  5 | ('Item', 'Order')            | ('i_2', 'o_1') |\n",
      "|  6 | ('Item', 'Order')            | ('i_1', 'o_1') |\n",
      "|  7 | ('Order', 'Parcel')          | ('o_1', 'p_1') |\n",
      "|  8 | ('Shipping label', None)     | ('l_1', None)  |\n",
      "|  9 | ('Parcel', 'Shipping label') | ('p_1', 'l_1') |\n",
      "+----+------------------------------+----------------+\n",
      "\n"
     ]
    }
   ],
   "source": [
    "# Discover online TOTeM model that fits example log fully\n",
    "totem_buf = TotemBuffer(\n",
    "    50,\n",
    "    50,\n",
    "    50,\n",
    "    CachePolicy.FIFO,\n",
    "    pp_buf=PPBObjectsPerObjectType(PrioPolicyOrder.MAX)\n",
    ")\n",
    "totem_buf.process_stream(event_stream.stream)\n",
    "\n",
    "# Output TOTeM buffers at end of stream\n",
    "# Note that while priority policy is maintained as extra buffer, it is not needed as model buffers are never full\n",
    "print(totem_buf)\n",
    "\n",
    "# Mine and draw corresponding offline TOTeM model\n",
    "totem_model = TotemModel(totem_buf)\n",
    "totem_model_offl = TotemModel('../data/SmallExample.xml')\n",
    "totem_model_offl.visualize(Path('../figures/SmallExample'), 'totem_offl.pdf', ot_to_hex_color)"
   ]
  },
  {
   "cell_type": "code",
   "execution_count": 11,
   "id": "540d94b6",
   "metadata": {},
   "outputs": [],
   "source": [
    "# Print evaluation metrics for discovered OC-DFG\n",
    "def print_totem_scores(onl_model : TotemModel, offl_model : TotemModel) -> None:\n",
    "    score_dict = get_totem_accuracy(offl_model, onl_model)\n",
    "    print('Total evaluation scores\\n-----------------------')\n",
    "    for key, val in score_dict.items():\n",
    "        print(f'{key}:\\t{val}')\n",
    "\n",
    "    avg_score_dict = get_totem_avg_scores(offl_model, onl_model)\n",
    "    print(f'\\nAverage evaluation scores\\n-------------------------')\n",
    "    for key, val in avg_score_dict.items():\n",
    "        print(f'{key}:\\t{val}')"
   ]
  },
  {
   "cell_type": "code",
   "execution_count": 12,
   "id": "56578175",
   "metadata": {},
   "outputs": [
    {
     "name": "stdout",
     "output_type": "stream",
     "text": [
      "Total evaluation scores\n",
      "-----------------------\n",
      "node recall:\t1.0\n",
      "node accuracy:\t1.0\n",
      "node precision:\t1.0\n",
      "arc recall:\t1.0\n",
      "arc accuracy:\t1.0\n",
      "arc precision:\t1.0\n",
      "TR accuracy:\t1.0\n",
      "EC accuracy:\t1.0\n",
      "LC accuracy:\t1.0\n",
      "\n",
      "Average evaluation scores\n",
      "-------------------------\n",
      "recall:\t1.0\n",
      "precision:\t1.0\n",
      "accuracy:\t1.0\n"
     ]
    }
   ],
   "source": [
    "# Evaluate online model with sufficiently large buffers to fit entire SmallExample log\n",
    "print_totem_scores(totem_model, totem_model_offl)"
   ]
  },
  {
   "cell_type": "code",
   "execution_count": 16,
   "id": "f0820c87",
   "metadata": {},
   "outputs": [
    {
     "name": "stdout",
     "output_type": "stream",
     "text": [
      "Total evaluation scores\n",
      "-----------------------\n",
      "node recall:\t0.6\n",
      "node accuracy:\t0.6\n",
      "node precision:\t1.0\n",
      "arc recall:\t0.4\n",
      "arc accuracy:\t0.76\n",
      "arc precision:\t1.0\n",
      "TR accuracy:\t0.65\n",
      "EC accuracy:\t0.95\n",
      "LC accuracy:\t1.0\n",
      "\n",
      "Average evaluation scores\n",
      "-------------------------\n",
      "recall:\t0.5\n",
      "precision:\t1.0\n",
      "accuracy:\t0.6799999999999999\n"
     ]
    }
   ],
   "source": [
    "# Visualize effect of using insufficiently small model buffers\n",
    "totem_buf_too_small = TotemBuffer(\n",
    "    3,\n",
    "    3,\n",
    "    3,\n",
    "    CachePolicy.FIFO\n",
    ")\n",
    "totem_buf_too_small.process_stream(event_stream.stream)\n",
    "totem_model_too_small = TotemModel(totem_buf_too_small)\n",
    "visualize_totem_overlap(totem_model_offl, totem_model_too_small, Path('../figures/SmallExample'), 'totem_too_small_overlap.pdf', ot_to_hex_color)\n",
    "\n",
    "# Evaluate online model with insufficiently small model buffers to fully capture SmallExample\n",
    "print_totem_scores(totem_model_too_small, totem_model_offl)\n"
   ]
  }
 ],
 "metadata": {
  "kernelspec": {
   "display_name": ".venv_ocpa",
   "language": "python",
   "name": "python3"
  },
  "language_info": {
   "codemirror_mode": {
    "name": "ipython",
    "version": 3
   },
   "file_extension": ".py",
   "mimetype": "text/x-python",
   "name": "python",
   "nbconvert_exporter": "python",
   "pygments_lexer": "ipython3",
   "version": "3.12.10"
  }
 },
 "nbformat": 4,
 "nbformat_minor": 5
}
